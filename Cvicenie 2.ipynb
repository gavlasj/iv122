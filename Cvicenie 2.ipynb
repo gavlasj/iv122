{
 "cells": [
  {
   "cell_type": "markdown",
   "metadata": {},
   "source": [
    "#### A) Generování kombinací, permutací, variací"
   ]
  },
  {
   "cell_type": "code",
   "execution_count": 40,
   "metadata": {},
   "outputs": [
    {
     "data": {
      "text/plain": [
       "[['A', 'B', 'C'],\n",
       " ['A', 'C', 'B'],\n",
       " ['B', 'A', 'C'],\n",
       " ['B', 'C', 'A'],\n",
       " ['C', 'A', 'B'],\n",
       " ['C', 'B', 'A']]"
      ]
     },
     "execution_count": 40,
     "metadata": {},
     "output_type": "execute_result"
    }
   ],
   "source": [
    "def vari(_list, k, rep = False):\n",
    "    if k == 0:\n",
    "        return [[]]\n",
    "    \n",
    "    result = []\n",
    "\n",
    "    for i in _list:\n",
    "        tmp = _list[:]\n",
    "        if rep == False:\n",
    "            tmp.remove(i)\n",
    "\n",
    "        for p in vari(tmp, k-1,rep):\n",
    "            result.append([i]+p)\n",
    "    return result\n",
    "\n",
    "def permu(_list):\n",
    "    return vari(_list,len(_list))\n",
    "\n",
    "\n",
    "vari(['A','B','C'], 3, False)"
   ]
  },
  {
   "cell_type": "code",
   "execution_count": 17,
   "metadata": {},
   "outputs": [
    {
     "data": {
      "text/plain": [
       "[['A', 'A'], ['A', 'B'], ['A', 'C'], ['B', 'B'], ['B', 'C'], ['C', 'C']]"
      ]
     },
     "execution_count": 17,
     "metadata": {},
     "output_type": "execute_result"
    }
   ],
   "source": [
    "def komb(_list,k,rep = False):\n",
    "    if k == 0:\n",
    "        return [[]]\n",
    "    \n",
    "    result = []\n",
    "    used = list()\n",
    "\n",
    "    for i in _list:\n",
    "        tmp = _list[:]\n",
    "        if rep == False:\n",
    "            tmp.remove(i)\n",
    "        for u in used: tmp.remove(u)\n",
    "        for p in vari(tmp, k-1,rep):\n",
    "            result.append([i]+p)\n",
    "        used.append(i)\n",
    "    return result\n",
    "\n",
    "\n",
    "komb(['A','B','C'], 2, True)"
   ]
  },
  {
   "cell_type": "markdown",
   "metadata": {},
   "source": [
    "#### B) Pascalův trojúhelník"
   ]
  },
  {
   "cell_type": "code",
   "execution_count": 93,
   "metadata": {},
   "outputs": [
    {
     "data": {
      "image/svg+xml": [
       "<svg xmlns=\"http://www.w3.org/2000/svg\"><polyline fill=\"blue\" points=\"88.5 4.5 91.5 4.5 91.5 1.5 88.5 1.5 88.5 4.5\" stroke=\"black\" stroke-width=\"0.1\"/><polyline fill=\"blue\" points=\"87.0 7.5 90.0 7.5 90.0 4.5 87.0 4.5 87.0 7.5\" stroke=\"black\" stroke-width=\"0.1\"/><polyline fill=\"blue\" points=\"90.0 7.5 93.0 7.5 93.0 4.5 90.0 4.5 90.0 7.5\" stroke=\"black\" stroke-width=\"0.1\"/><polyline fill=\"blue\" points=\"85.5 10.5 88.5 10.5 88.5 7.5 85.5 7.5 85.5 10.5\" stroke=\"black\" stroke-width=\"0.1\"/><polyline fill=\"green\" points=\"88.5 10.5 91.5 10.5 91.5 7.5 88.5 7.5 88.5 10.5\" stroke=\"black\" stroke-width=\"0.1\"/><polyline fill=\"blue\" points=\"91.5 10.5 94.5 10.5 94.5 7.5 91.5 7.5 91.5 10.5\" stroke=\"black\" stroke-width=\"0.1\"/><polyline fill=\"blue\" points=\"84.0 13.5 87.0 13.5 87.0 10.5 84.0 10.5 84.0 13.5\" stroke=\"black\" stroke-width=\"0.1\"/><polyline fill=\"yellow\" points=\"87.0 13.5 90.0 13.5 90.0 10.5 87.0 10.5 87.0 13.5\" stroke=\"black\" stroke-width=\"0.1\"/><polyline fill=\"yellow\" points=\"90.0 13.5 93.0 13.5 93.0 10.5 90.0 10.5 90.0 13.5\" stroke=\"black\" stroke-width=\"0.1\"/><polyline fill=\"blue\" points=\"93.0 13.5 96.0 13.5 96.0 10.5 93.0 10.5 93.0 13.5\" stroke=\"black\" stroke-width=\"0.1\"/><polyline fill=\"blue\" points=\"82.5 16.5 85.5 16.5 85.5 13.5 82.5 13.5 82.5 16.5\" stroke=\"black\" stroke-width=\"0.1\"/><polyline fill=\"cyan\" points=\"85.5 16.5 88.5 16.5 88.5 13.5 85.5 13.5 85.5 16.5\" stroke=\"black\" stroke-width=\"0.1\"/><polyline fill=\"blue\" points=\"88.5 16.5 91.5 16.5 91.5 13.5 88.5 13.5 88.5 16.5\" stroke=\"black\" stroke-width=\"0.1\"/><polyline fill=\"cyan\" points=\"91.5 16.5 94.5 16.5 94.5 13.5 91.5 13.5 91.5 16.5\" stroke=\"black\" stroke-width=\"0.1\"/><polyline fill=\"blue\" points=\"94.5 16.5 97.5 16.5 97.5 13.5 94.5 13.5 94.5 16.5\" stroke=\"black\" stroke-width=\"0.1\"/><polyline fill=\"blue\" points=\"81.0 19.5 84.0 19.5 84.0 16.5 81.0 16.5 81.0 19.5\" stroke=\"black\" stroke-width=\"0.1\"/><polyline fill=\"red\" points=\"84.0 19.5 87.0 19.5 87.0 16.5 84.0 16.5 84.0 19.5\" stroke=\"black\" stroke-width=\"0.1\"/><polyline fill=\"red\" points=\"87.0 19.5 90.0 19.5 90.0 16.5 87.0 16.5 87.0 19.5\" stroke=\"black\" stroke-width=\"0.1\"/><polyline fill=\"red\" points=\"90.0 19.5 93.0 19.5 93.0 16.5 90.0 16.5 90.0 19.5\" stroke=\"black\" stroke-width=\"0.1\"/><polyline fill=\"red\" points=\"93.0 19.5 96.0 19.5 96.0 16.5 93.0 16.5 93.0 19.5\" stroke=\"black\" stroke-width=\"0.1\"/><polyline fill=\"blue\" points=\"96.0 19.5 99.0 19.5 99.0 16.5 96.0 16.5 96.0 19.5\" stroke=\"black\" stroke-width=\"0.1\"/><polyline fill=\"blue\" points=\"79.5 22.5 82.5 22.5 82.5 19.5 79.5 19.5 79.5 22.5\" stroke=\"black\" stroke-width=\"0.1\"/><polyline fill=\"blue\" points=\"82.5 22.5 85.5 22.5 85.5 19.5 82.5 19.5 82.5 22.5\" stroke=\"black\" stroke-width=\"0.1\"/><polyline fill=\"red\" points=\"85.5 22.5 88.5 22.5 88.5 19.5 85.5 19.5 85.5 22.5\" stroke=\"black\" stroke-width=\"0.1\"/><polyline fill=\"red\" points=\"88.5 22.5 91.5 22.5 91.5 19.5 88.5 19.5 88.5 22.5\" stroke=\"black\" stroke-width=\"0.1\"/><polyline fill=\"red\" points=\"91.5 22.5 94.5 22.5 94.5 19.5 91.5 19.5 91.5 22.5\" stroke=\"black\" stroke-width=\"0.1\"/><polyline fill=\"blue\" points=\"94.5 22.5 97.5 22.5 97.5 19.5 94.5 19.5 94.5 22.5\" stroke=\"black\" stroke-width=\"0.1\"/><polyline fill=\"blue\" points=\"97.5 22.5 100.5 22.5 100.5 19.5 97.5 19.5 97.5 22.5\" stroke=\"black\" stroke-width=\"0.1\"/><polyline fill=\"blue\" points=\"78.0 25.5 81.0 25.5 81.0 22.5 78.0 22.5 78.0 25.5\" stroke=\"black\" stroke-width=\"0.1\"/><polyline fill=\"green\" points=\"81.0 25.5 84.0 25.5 84.0 22.5 81.0 22.5 81.0 25.5\" stroke=\"black\" stroke-width=\"0.1\"/><polyline fill=\"blue\" points=\"84.0 25.5 87.0 25.5 87.0 22.5 84.0 22.5 84.0 25.5\" stroke=\"black\" stroke-width=\"0.1\"/><polyline fill=\"red\" points=\"87.0 25.5 90.0 25.5 90.0 22.5 87.0 22.5 87.0 25.5\" stroke=\"black\" stroke-width=\"0.1\"/><polyline fill=\"red\" points=\"90.0 25.5 93.0 25.5 93.0 22.5 90.0 22.5 90.0 25.5\" stroke=\"black\" stroke-width=\"0.1\"/><polyline fill=\"blue\" points=\"93.0 25.5 96.0 25.5 96.0 22.5 93.0 22.5 93.0 25.5\" stroke=\"black\" stroke-width=\"0.1\"/><polyline fill=\"green\" points=\"96.0 25.5 99.0 25.5 99.0 22.5 96.0 22.5 96.0 25.5\" stroke=\"black\" stroke-width=\"0.1\"/><polyline fill=\"blue\" points=\"99.0 25.5 102.0 25.5 102.0 22.5 99.0 22.5 99.0 25.5\" stroke=\"black\" stroke-width=\"0.1\"/><polyline fill=\"blue\" points=\"76.5 28.5 79.5 28.5 79.5 25.5 76.5 25.5 76.5 28.5\" stroke=\"black\" stroke-width=\"0.1\"/><polyline fill=\"yellow\" points=\"79.5 28.5 82.5 28.5 82.5 25.5 79.5 25.5 79.5 28.5\" stroke=\"black\" stroke-width=\"0.1\"/><polyline fill=\"yellow\" points=\"82.5 28.5 85.5 28.5 85.5 25.5 82.5 25.5 82.5 28.5\" stroke=\"black\" stroke-width=\"0.1\"/><polyline fill=\"blue\" points=\"85.5 28.5 88.5 28.5 88.5 25.5 85.5 25.5 85.5 28.5\" stroke=\"black\" stroke-width=\"0.1\"/><polyline fill=\"red\" points=\"88.5 28.5 91.5 28.5 91.5 25.5 88.5 25.5 88.5 28.5\" stroke=\"black\" stroke-width=\"0.1\"/><polyline fill=\"blue\" points=\"91.5 28.5 94.5 28.5 94.5 25.5 91.5 25.5 91.5 28.5\" stroke=\"black\" stroke-width=\"0.1\"/><polyline fill=\"yellow\" points=\"94.5 28.5 97.5 28.5 97.5 25.5 94.5 25.5 94.5 28.5\" stroke=\"black\" stroke-width=\"0.1\"/><polyline fill=\"yellow\" points=\"97.5 28.5 100.5 28.5 100.5 25.5 97.5 25.5 97.5 28.5\" stroke=\"black\" stroke-width=\"0.1\"/><polyline fill=\"blue\" points=\"100.5 28.5 103.5 28.5 103.5 25.5 100.5 25.5 100.5 28.5\" stroke=\"black\" stroke-width=\"0.1\"/><polyline fill=\"blue\" points=\"75.0 31.5 78.0 31.5 78.0 28.5 75.0 28.5 75.0 31.5\" stroke=\"black\" stroke-width=\"0.1\"/><polyline fill=\"cyan\" points=\"78.0 31.5 81.0 31.5 81.0 28.5 78.0 28.5 78.0 31.5\" stroke=\"black\" stroke-width=\"0.1\"/><polyline fill=\"blue\" points=\"81.0 31.5 84.0 31.5 84.0 28.5 81.0 28.5 81.0 31.5\" stroke=\"black\" stroke-width=\"0.1\"/><polyline fill=\"cyan\" points=\"84.0 31.5 87.0 31.5 87.0 28.5 84.0 28.5 84.0 31.5\" stroke=\"black\" stroke-width=\"0.1\"/><polyline fill=\"blue\" points=\"87.0 31.5 90.0 31.5 90.0 28.5 87.0 28.5 87.0 31.5\" stroke=\"black\" stroke-width=\"0.1\"/><polyline fill=\"blue\" points=\"90.0 31.5 93.0 31.5 93.0 28.5 90.0 28.5 90.0 31.5\" stroke=\"black\" stroke-width=\"0.1\"/><polyline fill=\"cyan\" points=\"93.0 31.5 96.0 31.5 96.0 28.5 93.0 28.5 93.0 31.5\" stroke=\"black\" stroke-width=\"0.1\"/><polyline fill=\"blue\" points=\"96.0 31.5 99.0 31.5 99.0 28.5 96.0 28.5 96.0 31.5\" stroke=\"black\" stroke-width=\"0.1\"/><polyline fill=\"cyan\" points=\"99.0 31.5 102.0 31.5 102.0 28.5 99.0 28.5 99.0 31.5\" stroke=\"black\" stroke-width=\"0.1\"/><polyline fill=\"blue\" points=\"102.0 31.5 105.0 31.5 105.0 28.5 102.0 28.5 102.0 31.5\" stroke=\"black\" stroke-width=\"0.1\"/><polyline fill=\"blue\" points=\"73.5 34.5 76.5 34.5 76.5 31.5 73.5 31.5 73.5 34.5\" stroke=\"black\" stroke-width=\"0.1\"/><polyline fill=\"red\" points=\"76.5 34.5 79.5 34.5 79.5 31.5 76.5 31.5 76.5 34.5\" stroke=\"black\" stroke-width=\"0.1\"/><polyline fill=\"red\" points=\"79.5 34.5 82.5 34.5 82.5 31.5 79.5 31.5 79.5 34.5\" stroke=\"black\" stroke-width=\"0.1\"/><polyline fill=\"red\" points=\"82.5 34.5 85.5 34.5 85.5 31.5 82.5 31.5 82.5 34.5\" stroke=\"black\" stroke-width=\"0.1\"/><polyline fill=\"red\" points=\"85.5 34.5 88.5 34.5 88.5 31.5 85.5 31.5 85.5 34.5\" stroke=\"black\" stroke-width=\"0.1\"/><polyline fill=\"green\" points=\"88.5 34.5 91.5 34.5 91.5 31.5 88.5 31.5 88.5 34.5\" stroke=\"black\" stroke-width=\"0.1\"/><polyline fill=\"red\" points=\"91.5 34.5 94.5 34.5 94.5 31.5 91.5 31.5 91.5 34.5\" stroke=\"black\" stroke-width=\"0.1\"/><polyline fill=\"red\" points=\"94.5 34.5 97.5 34.5 97.5 31.5 94.5 31.5 94.5 34.5\" stroke=\"black\" stroke-width=\"0.1\"/><polyline fill=\"red\" points=\"97.5 34.5 100.5 34.5 100.5 31.5 97.5 31.5 97.5 34.5\" stroke=\"black\" stroke-width=\"0.1\"/><polyline fill=\"red\" points=\"100.5 34.5 103.5 34.5 103.5 31.5 100.5 31.5 100.5 34.5\" stroke=\"black\" stroke-width=\"0.1\"/><polyline fill=\"blue\" points=\"103.5 34.5 106.5 34.5 106.5 31.5 103.5 31.5 103.5 34.5\" stroke=\"black\" stroke-width=\"0.1\"/><polyline fill=\"blue\" points=\"72.0 37.5 75.0 37.5 75.0 34.5 72.0 34.5 72.0 37.5\" stroke=\"black\" stroke-width=\"0.1\"/><polyline fill=\"blue\" points=\"75.0 37.5 78.0 37.5 78.0 34.5 75.0 34.5 75.0 37.5\" stroke=\"black\" stroke-width=\"0.1\"/><polyline fill=\"red\" points=\"78.0 37.5 81.0 37.5 81.0 34.5 78.0 34.5 78.0 37.5\" stroke=\"black\" stroke-width=\"0.1\"/><polyline fill=\"red\" points=\"81.0 37.5 84.0 37.5 84.0 34.5 81.0 34.5 81.0 37.5\" stroke=\"black\" stroke-width=\"0.1\"/><polyline fill=\"red\" points=\"84.0 37.5 87.0 37.5 87.0 34.5 84.0 34.5 84.0 37.5\" stroke=\"black\" stroke-width=\"0.1\"/><polyline fill=\"green\" points=\"87.0 37.5 90.0 37.5 90.0 34.5 87.0 34.5 87.0 37.5\" stroke=\"black\" stroke-width=\"0.1\"/><polyline fill=\"green\" points=\"90.0 37.5 93.0 37.5 93.0 34.5 90.0 34.5 90.0 37.5\" stroke=\"black\" stroke-width=\"0.1\"/><polyline fill=\"red\" points=\"93.0 37.5 96.0 37.5 96.0 34.5 93.0 34.5 93.0 37.5\" stroke=\"black\" stroke-width=\"0.1\"/><polyline fill=\"red\" points=\"96.0 37.5 99.0 37.5 99.0 34.5 96.0 34.5 96.0 37.5\" stroke=\"black\" stroke-width=\"0.1\"/><polyline fill=\"red\" points=\"99.0 37.5 102.0 37.5 102.0 34.5 99.0 34.5 99.0 37.5\" stroke=\"black\" stroke-width=\"0.1\"/><polyline fill=\"blue\" points=\"102.0 37.5 105.0 37.5 105.0 34.5 102.0 34.5 102.0 37.5\" stroke=\"black\" stroke-width=\"0.1\"/><polyline fill=\"blue\" points=\"105.0 37.5 108.0 37.5 108.0 34.5 105.0 34.5 105.0 37.5\" stroke=\"black\" stroke-width=\"0.1\"/><polyline fill=\"blue\" points=\"70.5 40.5 73.5 40.5 73.5 37.5 70.5 37.5 70.5 40.5\" stroke=\"black\" stroke-width=\"0.1\"/><polyline fill=\"green\" points=\"73.5 40.5 76.5 40.5 76.5 37.5 73.5 37.5 73.5 40.5\" stroke=\"black\" stroke-width=\"0.1\"/><polyline fill=\"blue\" points=\"76.5 40.5 79.5 40.5 79.5 37.5 76.5 37.5 76.5 40.5\" stroke=\"black\" stroke-width=\"0.1\"/><polyline fill=\"red\" points=\"79.5 40.5 82.5 40.5 82.5 37.5 79.5 37.5 79.5 40.5\" stroke=\"black\" stroke-width=\"0.1\"/><polyline fill=\"red\" points=\"82.5 40.5 85.5 40.5 85.5 37.5 82.5 37.5 82.5 40.5\" stroke=\"black\" stroke-width=\"0.1\"/><polyline fill=\"green\" points=\"85.5 40.5 88.5 40.5 88.5 37.5 85.5 37.5 85.5 40.5\" stroke=\"black\" stroke-width=\"0.1\"/><polyline fill=\"cyan\" points=\"88.5 40.5 91.5 40.5 91.5 37.5 88.5 37.5 88.5 40.5\" stroke=\"black\" stroke-width=\"0.1\"/><polyline fill=\"green\" points=\"91.5 40.5 94.5 40.5 94.5 37.5 91.5 37.5 91.5 40.5\" stroke=\"black\" stroke-width=\"0.1\"/><polyline fill=\"red\" points=\"94.5 40.5 97.5 40.5 97.5 37.5 94.5 37.5 94.5 40.5\" stroke=\"black\" stroke-width=\"0.1\"/><polyline fill=\"red\" points=\"97.5 40.5 100.5 40.5 100.5 37.5 97.5 37.5 97.5 40.5\" stroke=\"black\" stroke-width=\"0.1\"/><polyline fill=\"blue\" points=\"100.5 40.5 103.5 40.5 103.5 37.5 100.5 37.5 100.5 40.5\" stroke=\"black\" stroke-width=\"0.1\"/><polyline fill=\"green\" points=\"103.5 40.5 106.5 40.5 106.5 37.5 103.5 37.5 103.5 40.5\" stroke=\"black\" stroke-width=\"0.1\"/><polyline fill=\"blue\" points=\"106.5 40.5 109.5 40.5 109.5 37.5 106.5 37.5 106.5 40.5\" stroke=\"black\" stroke-width=\"0.1\"/><polyline fill=\"blue\" points=\"69.0 43.5 72.0 43.5 72.0 40.5 69.0 40.5 69.0 43.5\" stroke=\"black\" stroke-width=\"0.1\"/><polyline fill=\"yellow\" points=\"72.0 43.5 75.0 43.5 75.0 40.5 72.0 40.5 72.0 43.5\" stroke=\"black\" stroke-width=\"0.1\"/><polyline fill=\"yellow\" points=\"75.0 43.5 78.0 43.5 78.0 40.5 75.0 40.5 75.0 43.5\" stroke=\"black\" stroke-width=\"0.1\"/><polyline fill=\"blue\" points=\"78.0 43.5 81.0 43.5 81.0 40.5 78.0 40.5 78.0 43.5\" stroke=\"black\" stroke-width=\"0.1\"/><polyline fill=\"red\" points=\"81.0 43.5 84.0 43.5 84.0 40.5 81.0 40.5 81.0 43.5\" stroke=\"black\" stroke-width=\"0.1\"/><polyline fill=\"green\" points=\"84.0 43.5 87.0 43.5 87.0 40.5 84.0 40.5 84.0 43.5\" stroke=\"black\" stroke-width=\"0.1\"/><polyline fill=\"blue\" points=\"87.0 43.5 90.0 43.5 90.0 40.5 87.0 40.5 87.0 43.5\" stroke=\"black\" stroke-width=\"0.1\"/><polyline fill=\"blue\" points=\"90.0 43.5 93.0 43.5 93.0 40.5 90.0 40.5 90.0 43.5\" stroke=\"black\" stroke-width=\"0.1\"/><polyline fill=\"green\" points=\"93.0 43.5 96.0 43.5 96.0 40.5 93.0 40.5 93.0 43.5\" stroke=\"black\" stroke-width=\"0.1\"/><polyline fill=\"red\" points=\"96.0 43.5 99.0 43.5 99.0 40.5 96.0 40.5 96.0 43.5\" stroke=\"black\" stroke-width=\"0.1\"/><polyline fill=\"blue\" points=\"99.0 43.5 102.0 43.5 102.0 40.5 99.0 40.5 99.0 43.5\" stroke=\"black\" stroke-width=\"0.1\"/><polyline fill=\"yellow\" points=\"102.0 43.5 105.0 43.5 105.0 40.5 102.0 40.5 102.0 43.5\" stroke=\"black\" stroke-width=\"0.1\"/><polyline fill=\"yellow\" points=\"105.0 43.5 108.0 43.5 108.0 40.5 105.0 40.5 105.0 43.5\" stroke=\"black\" stroke-width=\"0.1\"/><polyline fill=\"blue\" points=\"108.0 43.5 111.0 43.5 111.0 40.5 108.0 40.5 108.0 43.5\" stroke=\"black\" stroke-width=\"0.1\"/><polyline fill=\"blue\" points=\"67.5 46.5 70.5 46.5 70.5 43.5 67.5 43.5 67.5 46.5\" stroke=\"black\" stroke-width=\"0.1\"/><polyline fill=\"cyan\" points=\"70.5 46.5 73.5 46.5 73.5 43.5 70.5 43.5 70.5 46.5\" stroke=\"black\" stroke-width=\"0.1\"/><polyline fill=\"blue\" points=\"73.5 46.5 76.5 46.5 76.5 43.5 73.5 43.5 73.5 46.5\" stroke=\"black\" stroke-width=\"0.1\"/><polyline fill=\"cyan\" points=\"76.5 46.5 79.5 46.5 79.5 43.5 76.5 43.5 76.5 46.5\" stroke=\"black\" stroke-width=\"0.1\"/><polyline fill=\"blue\" points=\"79.5 46.5 82.5 46.5 82.5 43.5 79.5 43.5 79.5 46.5\" stroke=\"black\" stroke-width=\"0.1\"/><polyline fill=\"green\" points=\"82.5 46.5 85.5 46.5 85.5 43.5 82.5 43.5 82.5 46.5\" stroke=\"black\" stroke-width=\"0.1\"/><polyline fill=\"yellow\" points=\"85.5 46.5 88.5 46.5 88.5 43.5 85.5 43.5 85.5 46.5\" stroke=\"black\" stroke-width=\"0.1\"/><polyline fill=\"green\" points=\"88.5 46.5 91.5 46.5 91.5 43.5 88.5 43.5 88.5 46.5\" stroke=\"black\" stroke-width=\"0.1\"/><polyline fill=\"yellow\" points=\"91.5 46.5 94.5 46.5 94.5 43.5 91.5 43.5 91.5 46.5\" stroke=\"black\" stroke-width=\"0.1\"/><polyline fill=\"green\" points=\"94.5 46.5 97.5 46.5 97.5 43.5 94.5 43.5 94.5 46.5\" stroke=\"black\" stroke-width=\"0.1\"/><polyline fill=\"blue\" points=\"97.5 46.5 100.5 46.5 100.5 43.5 97.5 43.5 97.5 46.5\" stroke=\"black\" stroke-width=\"0.1\"/><polyline fill=\"cyan\" points=\"100.5 46.5 103.5 46.5 103.5 43.5 100.5 43.5 100.5 46.5\" stroke=\"black\" stroke-width=\"0.1\"/><polyline fill=\"blue\" points=\"103.5 46.5 106.5 46.5 106.5 43.5 103.5 43.5 103.5 46.5\" stroke=\"black\" stroke-width=\"0.1\"/><polyline fill=\"cyan\" points=\"106.5 46.5 109.5 46.5 109.5 43.5 106.5 43.5 106.5 46.5\" stroke=\"black\" stroke-width=\"0.1\"/><polyline fill=\"blue\" points=\"109.5 46.5 112.5 46.5 112.5 43.5 109.5 43.5 109.5 46.5\" stroke=\"black\" stroke-width=\"0.1\"/><polyline fill=\"blue\" points=\"66.0 49.5 69.0 49.5 69.0 46.5 66.0 46.5 66.0 49.5\" stroke=\"black\" stroke-width=\"0.1\"/><polyline fill=\"red\" points=\"69.0 49.5 72.0 49.5 72.0 46.5 69.0 46.5 69.0 49.5\" stroke=\"black\" stroke-width=\"0.1\"/><polyline fill=\"red\" points=\"72.0 49.5 75.0 49.5 75.0 46.5 72.0 46.5 72.0 49.5\" stroke=\"black\" stroke-width=\"0.1\"/><polyline fill=\"red\" points=\"75.0 49.5 78.0 49.5 78.0 46.5 75.0 46.5 75.0 49.5\" stroke=\"black\" stroke-width=\"0.1\"/><polyline fill=\"red\" points=\"78.0 49.5 81.0 49.5 81.0 46.5 78.0 46.5 78.0 49.5\" stroke=\"black\" stroke-width=\"0.1\"/><polyline fill=\"yellow\" points=\"81.0 49.5 84.0 49.5 84.0 46.5 81.0 46.5 81.0 49.5\" stroke=\"black\" stroke-width=\"0.1\"/><polyline fill=\"red\" points=\"84.0 49.5 87.0 49.5 87.0 46.5 84.0 46.5 84.0 49.5\" stroke=\"black\" stroke-width=\"0.1\"/><polyline fill=\"red\" points=\"87.0 49.5 90.0 49.5 90.0 46.5 87.0 46.5 87.0 49.5\" stroke=\"black\" stroke-width=\"0.1\"/><polyline fill=\"red\" points=\"90.0 49.5 93.0 49.5 93.0 46.5 90.0 46.5 90.0 49.5\" stroke=\"black\" stroke-width=\"0.1\"/><polyline fill=\"red\" points=\"93.0 49.5 96.0 49.5 96.0 46.5 93.0 46.5 93.0 49.5\" stroke=\"black\" stroke-width=\"0.1\"/><polyline fill=\"yellow\" points=\"96.0 49.5 99.0 49.5 99.0 46.5 96.0 46.5 96.0 49.5\" stroke=\"black\" stroke-width=\"0.1\"/><polyline fill=\"red\" points=\"99.0 49.5 102.0 49.5 102.0 46.5 99.0 46.5 99.0 49.5\" stroke=\"black\" stroke-width=\"0.1\"/><polyline fill=\"red\" points=\"102.0 49.5 105.0 49.5 105.0 46.5 102.0 46.5 102.0 49.5\" stroke=\"black\" stroke-width=\"0.1\"/><polyline fill=\"red\" points=\"105.0 49.5 108.0 49.5 108.0 46.5 105.0 46.5 105.0 49.5\" stroke=\"black\" stroke-width=\"0.1\"/><polyline fill=\"red\" points=\"108.0 49.5 111.0 49.5 111.0 46.5 108.0 46.5 108.0 49.5\" stroke=\"black\" stroke-width=\"0.1\"/><polyline fill=\"blue\" points=\"111.0 49.5 114.0 49.5 114.0 46.5 111.0 46.5 111.0 49.5\" stroke=\"black\" stroke-width=\"0.1\"/><polyline fill=\"blue\" points=\"64.5 52.5 67.5 52.5 67.5 49.5 64.5 49.5 64.5 52.5\" stroke=\"black\" stroke-width=\"0.1\"/><polyline fill=\"blue\" points=\"67.5 52.5 70.5 52.5 70.5 49.5 67.5 49.5 67.5 52.5\" stroke=\"black\" stroke-width=\"0.1\"/><polyline fill=\"red\" points=\"70.5 52.5 73.5 52.5 73.5 49.5 70.5 49.5 70.5 52.5\" stroke=\"black\" stroke-width=\"0.1\"/><polyline fill=\"red\" points=\"73.5 52.5 76.5 52.5 76.5 49.5 73.5 49.5 73.5 52.5\" stroke=\"black\" stroke-width=\"0.1\"/><polyline fill=\"red\" points=\"76.5 52.5 79.5 52.5 79.5 49.5 76.5 49.5 76.5 52.5\" stroke=\"black\" stroke-width=\"0.1\"/><polyline fill=\"yellow\" points=\"79.5 52.5 82.5 52.5 82.5 49.5 79.5 49.5 79.5 52.5\" stroke=\"black\" stroke-width=\"0.1\"/><polyline fill=\"yellow\" points=\"82.5 52.5 85.5 52.5 85.5 49.5 82.5 49.5 82.5 52.5\" stroke=\"black\" stroke-width=\"0.1\"/><polyline fill=\"red\" points=\"85.5 52.5 88.5 52.5 88.5 49.5 85.5 49.5 85.5 52.5\" stroke=\"black\" stroke-width=\"0.1\"/><polyline fill=\"red\" points=\"88.5 52.5 91.5 52.5 91.5 49.5 88.5 49.5 88.5 52.5\" stroke=\"black\" stroke-width=\"0.1\"/><polyline fill=\"red\" points=\"91.5 52.5 94.5 52.5 94.5 49.5 91.5 49.5 91.5 52.5\" stroke=\"black\" stroke-width=\"0.1\"/><polyline fill=\"yellow\" points=\"94.5 52.5 97.5 52.5 97.5 49.5 94.5 49.5 94.5 52.5\" stroke=\"black\" stroke-width=\"0.1\"/><polyline fill=\"yellow\" points=\"97.5 52.5 100.5 52.5 100.5 49.5 97.5 49.5 97.5 52.5\" stroke=\"black\" stroke-width=\"0.1\"/><polyline fill=\"red\" points=\"100.5 52.5 103.5 52.5 103.5 49.5 100.5 49.5 100.5 52.5\" stroke=\"black\" stroke-width=\"0.1\"/><polyline fill=\"red\" points=\"103.5 52.5 106.5 52.5 106.5 49.5 103.5 49.5 103.5 52.5\" stroke=\"black\" stroke-width=\"0.1\"/><polyline fill=\"red\" points=\"106.5 52.5 109.5 52.5 109.5 49.5 106.5 49.5 106.5 52.5\" stroke=\"black\" stroke-width=\"0.1\"/><polyline fill=\"blue\" points=\"109.5 52.5 112.5 52.5 112.5 49.5 109.5 49.5 109.5 52.5\" stroke=\"black\" stroke-width=\"0.1\"/><polyline fill=\"blue\" points=\"112.5 52.5 115.5 52.5 115.5 49.5 112.5 49.5 112.5 52.5\" stroke=\"black\" stroke-width=\"0.1\"/><polyline fill=\"blue\" points=\"63.0 55.5 66.0 55.5 66.0 52.5 63.0 52.5 63.0 55.5\" stroke=\"black\" stroke-width=\"0.1\"/><polyline fill=\"green\" points=\"66.0 55.5 69.0 55.5 69.0 52.5 66.0 52.5 66.0 55.5\" stroke=\"black\" stroke-width=\"0.1\"/><polyline fill=\"blue\" points=\"69.0 55.5 72.0 55.5 72.0 52.5 69.0 52.5 69.0 55.5\" stroke=\"black\" stroke-width=\"0.1\"/><polyline fill=\"red\" points=\"72.0 55.5 75.0 55.5 75.0 52.5 72.0 52.5 72.0 55.5\" stroke=\"black\" stroke-width=\"0.1\"/><polyline fill=\"red\" points=\"75.0 55.5 78.0 55.5 78.0 52.5 75.0 52.5 75.0 55.5\" stroke=\"black\" stroke-width=\"0.1\"/><polyline fill=\"yellow\" points=\"78.0 55.5 81.0 55.5 81.0 52.5 78.0 52.5 78.0 55.5\" stroke=\"black\" stroke-width=\"0.1\"/><polyline fill=\"blue\" points=\"81.0 55.5 84.0 55.5 84.0 52.5 81.0 52.5 81.0 55.5\" stroke=\"black\" stroke-width=\"0.1\"/><polyline fill=\"yellow\" points=\"84.0 55.5 87.0 55.5 87.0 52.5 84.0 52.5 84.0 55.5\" stroke=\"black\" stroke-width=\"0.1\"/><polyline fill=\"red\" points=\"87.0 55.5 90.0 55.5 90.0 52.5 87.0 52.5 87.0 55.5\" stroke=\"black\" stroke-width=\"0.1\"/><polyline fill=\"red\" points=\"90.0 55.5 93.0 55.5 93.0 52.5 90.0 52.5 90.0 55.5\" stroke=\"black\" stroke-width=\"0.1\"/><polyline fill=\"yellow\" points=\"93.0 55.5 96.0 55.5 96.0 52.5 93.0 52.5 93.0 55.5\" stroke=\"black\" stroke-width=\"0.1\"/><polyline fill=\"blue\" points=\"96.0 55.5 99.0 55.5 99.0 52.5 96.0 52.5 96.0 55.5\" stroke=\"black\" stroke-width=\"0.1\"/><polyline fill=\"yellow\" points=\"99.0 55.5 102.0 55.5 102.0 52.5 99.0 52.5 99.0 55.5\" stroke=\"black\" stroke-width=\"0.1\"/><polyline fill=\"red\" points=\"102.0 55.5 105.0 55.5 105.0 52.5 102.0 52.5 102.0 55.5\" stroke=\"black\" stroke-width=\"0.1\"/><polyline fill=\"red\" points=\"105.0 55.5 108.0 55.5 108.0 52.5 105.0 52.5 105.0 55.5\" stroke=\"black\" stroke-width=\"0.1\"/><polyline fill=\"blue\" points=\"108.0 55.5 111.0 55.5 111.0 52.5 108.0 52.5 108.0 55.5\" stroke=\"black\" stroke-width=\"0.1\"/><polyline fill=\"green\" points=\"111.0 55.5 114.0 55.5 114.0 52.5 111.0 52.5 111.0 55.5\" stroke=\"black\" stroke-width=\"0.1\"/><polyline fill=\"blue\" points=\"114.0 55.5 117.0 55.5 117.0 52.5 114.0 52.5 114.0 55.5\" stroke=\"black\" stroke-width=\"0.1\"/><polyline fill=\"blue\" points=\"61.5 58.5 64.5 58.5 64.5 55.5 61.5 55.5 61.5 58.5\" stroke=\"black\" stroke-width=\"0.1\"/><polyline fill=\"yellow\" points=\"64.5 58.5 67.5 58.5 67.5 55.5 64.5 55.5 64.5 58.5\" stroke=\"black\" stroke-width=\"0.1\"/><polyline fill=\"yellow\" points=\"67.5 58.5 70.5 58.5 70.5 55.5 67.5 55.5 67.5 58.5\" stroke=\"black\" stroke-width=\"0.1\"/><polyline fill=\"blue\" points=\"70.5 58.5 73.5 58.5 73.5 55.5 70.5 55.5 70.5 58.5\" stroke=\"black\" stroke-width=\"0.1\"/><polyline fill=\"red\" points=\"73.5 58.5 76.5 58.5 76.5 55.5 73.5 55.5 73.5 58.5\" stroke=\"black\" stroke-width=\"0.1\"/><polyline fill=\"yellow\" points=\"76.5 58.5 79.5 58.5 79.5 55.5 76.5 55.5 76.5 58.5\" stroke=\"black\" stroke-width=\"0.1\"/><polyline fill=\"cyan\" points=\"79.5 58.5 82.5 58.5 82.5 55.5 79.5 55.5 79.5 58.5\" stroke=\"black\" stroke-width=\"0.1\"/><polyline fill=\"cyan\" points=\"82.5 58.5 85.5 58.5 85.5 55.5 82.5 55.5 82.5 58.5\" stroke=\"black\" stroke-width=\"0.1\"/><polyline fill=\"yellow\" points=\"85.5 58.5 88.5 58.5 88.5 55.5 85.5 55.5 85.5 58.5\" stroke=\"black\" stroke-width=\"0.1\"/><polyline fill=\"red\" points=\"88.5 58.5 91.5 58.5 91.5 55.5 88.5 55.5 88.5 58.5\" stroke=\"black\" stroke-width=\"0.1\"/><polyline fill=\"yellow\" points=\"91.5 58.5 94.5 58.5 94.5 55.5 91.5 55.5 91.5 58.5\" stroke=\"black\" stroke-width=\"0.1\"/><polyline fill=\"cyan\" points=\"94.5 58.5 97.5 58.5 97.5 55.5 94.5 55.5 94.5 58.5\" stroke=\"black\" stroke-width=\"0.1\"/><polyline fill=\"cyan\" points=\"97.5 58.5 100.5 58.5 100.5 55.5 97.5 55.5 97.5 58.5\" stroke=\"black\" stroke-width=\"0.1\"/><polyline fill=\"yellow\" points=\"100.5 58.5 103.5 58.5 103.5 55.5 100.5 55.5 100.5 58.5\" stroke=\"black\" stroke-width=\"0.1\"/><polyline fill=\"red\" points=\"103.5 58.5 106.5 58.5 106.5 55.5 103.5 55.5 103.5 58.5\" stroke=\"black\" stroke-width=\"0.1\"/><polyline fill=\"blue\" points=\"106.5 58.5 109.5 58.5 109.5 55.5 106.5 55.5 106.5 58.5\" stroke=\"black\" stroke-width=\"0.1\"/><polyline fill=\"yellow\" points=\"109.5 58.5 112.5 58.5 112.5 55.5 109.5 55.5 109.5 58.5\" stroke=\"black\" stroke-width=\"0.1\"/><polyline fill=\"yellow\" points=\"112.5 58.5 115.5 58.5 115.5 55.5 112.5 55.5 112.5 58.5\" stroke=\"black\" stroke-width=\"0.1\"/><polyline fill=\"blue\" points=\"115.5 58.5 118.5 58.5 118.5 55.5 115.5 55.5 115.5 58.5\" stroke=\"black\" stroke-width=\"0.1\"/><polyline fill=\"blue\" points=\"60.0 61.5 63.0 61.5 63.0 58.5 60.0 58.5 60.0 61.5\" stroke=\"black\" stroke-width=\"0.1\"/><polyline fill=\"cyan\" points=\"63.0 61.5 66.0 61.5 66.0 58.5 63.0 58.5 63.0 61.5\" stroke=\"black\" stroke-width=\"0.1\"/><polyline fill=\"blue\" points=\"66.0 61.5 69.0 61.5 69.0 58.5 66.0 58.5 66.0 61.5\" stroke=\"black\" stroke-width=\"0.1\"/><polyline fill=\"cyan\" points=\"69.0 61.5 72.0 61.5 72.0 58.5 69.0 58.5 69.0 61.5\" stroke=\"black\" stroke-width=\"0.1\"/><polyline fill=\"blue\" points=\"72.0 61.5 75.0 61.5 75.0 58.5 72.0 58.5 72.0 61.5\" stroke=\"black\" stroke-width=\"0.1\"/><polyline fill=\"yellow\" points=\"75.0 61.5 78.0 61.5 78.0 58.5 75.0 58.5 75.0 61.5\" stroke=\"black\" stroke-width=\"0.1\"/><polyline fill=\"green\" points=\"78.0 61.5 81.0 61.5 81.0 58.5 78.0 58.5 78.0 61.5\" stroke=\"black\" stroke-width=\"0.1\"/><polyline fill=\"yellow\" points=\"81.0 61.5 84.0 61.5 84.0 58.5 81.0 58.5 81.0 61.5\" stroke=\"black\" stroke-width=\"0.1\"/><polyline fill=\"green\" points=\"84.0 61.5 87.0 61.5 87.0 58.5 84.0 58.5 84.0 61.5\" stroke=\"black\" stroke-width=\"0.1\"/><polyline fill=\"yellow\" points=\"87.0 61.5 90.0 61.5 90.0 58.5 87.0 58.5 87.0 61.5\" stroke=\"black\" stroke-width=\"0.1\"/><polyline fill=\"yellow\" points=\"90.0 61.5 93.0 61.5 93.0 58.5 90.0 58.5 90.0 61.5\" stroke=\"black\" stroke-width=\"0.1\"/><polyline fill=\"green\" points=\"93.0 61.5 96.0 61.5 96.0 58.5 93.0 58.5 93.0 61.5\" stroke=\"black\" stroke-width=\"0.1\"/><polyline fill=\"yellow\" points=\"96.0 61.5 99.0 61.5 99.0 58.5 96.0 58.5 96.0 61.5\" stroke=\"black\" stroke-width=\"0.1\"/><polyline fill=\"green\" points=\"99.0 61.5 102.0 61.5 102.0 58.5 99.0 58.5 99.0 61.5\" stroke=\"black\" stroke-width=\"0.1\"/><polyline fill=\"yellow\" points=\"102.0 61.5 105.0 61.5 105.0 58.5 102.0 58.5 102.0 61.5\" stroke=\"black\" stroke-width=\"0.1\"/><polyline fill=\"blue\" points=\"105.0 61.5 108.0 61.5 108.0 58.5 105.0 58.5 105.0 61.5\" stroke=\"black\" stroke-width=\"0.1\"/><polyline fill=\"cyan\" points=\"108.0 61.5 111.0 61.5 111.0 58.5 108.0 58.5 108.0 61.5\" stroke=\"black\" stroke-width=\"0.1\"/><polyline fill=\"blue\" points=\"111.0 61.5 114.0 61.5 114.0 58.5 111.0 58.5 111.0 61.5\" stroke=\"black\" stroke-width=\"0.1\"/><polyline fill=\"cyan\" points=\"114.0 61.5 117.0 61.5 117.0 58.5 114.0 58.5 114.0 61.5\" stroke=\"black\" stroke-width=\"0.1\"/><polyline fill=\"blue\" points=\"117.0 61.5 120.0 61.5 120.0 58.5 117.0 58.5 117.0 61.5\" stroke=\"black\" stroke-width=\"0.1\"/><polyline fill=\"blue\" points=\"58.5 64.5 61.5 64.5 61.5 61.5 58.5 61.5 58.5 64.5\" stroke=\"black\" stroke-width=\"0.1\"/><polyline fill=\"red\" points=\"61.5 64.5 64.5 64.5 64.5 61.5 61.5 61.5 61.5 64.5\" stroke=\"black\" stroke-width=\"0.1\"/><polyline fill=\"red\" points=\"64.5 64.5 67.5 64.5 67.5 61.5 64.5 61.5 64.5 64.5\" stroke=\"black\" stroke-width=\"0.1\"/><polyline fill=\"red\" points=\"67.5 64.5 70.5 64.5 70.5 61.5 67.5 61.5 67.5 64.5\" stroke=\"black\" stroke-width=\"0.1\"/><polyline fill=\"red\" points=\"70.5 64.5 73.5 64.5 73.5 61.5 70.5 61.5 70.5 64.5\" stroke=\"black\" stroke-width=\"0.1\"/><polyline fill=\"cyan\" points=\"73.5 64.5 76.5 64.5 76.5 61.5 73.5 61.5 73.5 64.5\" stroke=\"black\" stroke-width=\"0.1\"/><polyline fill=\"red\" points=\"76.5 64.5 79.5 64.5 79.5 61.5 76.5 61.5 76.5 64.5\" stroke=\"black\" stroke-width=\"0.1\"/><polyline fill=\"red\" points=\"79.5 64.5 82.5 64.5 82.5 61.5 79.5 61.5 79.5 64.5\" stroke=\"black\" stroke-width=\"0.1\"/><polyline fill=\"red\" points=\"82.5 64.5 85.5 64.5 85.5 61.5 82.5 61.5 82.5 64.5\" stroke=\"black\" stroke-width=\"0.1\"/><polyline fill=\"red\" points=\"85.5 64.5 88.5 64.5 88.5 61.5 85.5 61.5 85.5 64.5\" stroke=\"black\" stroke-width=\"0.1\"/><polyline fill=\"blue\" points=\"88.5 64.5 91.5 64.5 91.5 61.5 88.5 61.5 88.5 64.5\" stroke=\"black\" stroke-width=\"0.1\"/><polyline fill=\"red\" points=\"91.5 64.5 94.5 64.5 94.5 61.5 91.5 61.5 91.5 64.5\" stroke=\"black\" stroke-width=\"0.1\"/><polyline fill=\"red\" points=\"94.5 64.5 97.5 64.5 97.5 61.5 94.5 61.5 94.5 64.5\" stroke=\"black\" stroke-width=\"0.1\"/><polyline fill=\"red\" points=\"97.5 64.5 100.5 64.5 100.5 61.5 97.5 61.5 97.5 64.5\" stroke=\"black\" stroke-width=\"0.1\"/><polyline fill=\"red\" points=\"100.5 64.5 103.5 64.5 103.5 61.5 100.5 61.5 100.5 64.5\" stroke=\"black\" stroke-width=\"0.1\"/><polyline fill=\"cyan\" points=\"103.5 64.5 106.5 64.5 106.5 61.5 103.5 61.5 103.5 64.5\" stroke=\"black\" stroke-width=\"0.1\"/><polyline fill=\"red\" points=\"106.5 64.5 109.5 64.5 109.5 61.5 106.5 61.5 106.5 64.5\" stroke=\"black\" stroke-width=\"0.1\"/><polyline fill=\"red\" points=\"109.5 64.5 112.5 64.5 112.5 61.5 109.5 61.5 109.5 64.5\" stroke=\"black\" stroke-width=\"0.1\"/><polyline fill=\"red\" points=\"112.5 64.5 115.5 64.5 115.5 61.5 112.5 61.5 112.5 64.5\" stroke=\"black\" stroke-width=\"0.1\"/><polyline fill=\"red\" points=\"115.5 64.5 118.5 64.5 118.5 61.5 115.5 61.5 115.5 64.5\" stroke=\"black\" stroke-width=\"0.1\"/><polyline fill=\"blue\" points=\"118.5 64.5 121.5 64.5 121.5 61.5 118.5 61.5 118.5 64.5\" stroke=\"black\" stroke-width=\"0.1\"/><polyline fill=\"blue\" points=\"57.0 67.5 60.0 67.5 60.0 64.5 57.0 64.5 57.0 67.5\" stroke=\"black\" stroke-width=\"0.1\"/><polyline fill=\"blue\" points=\"60.0 67.5 63.0 67.5 63.0 64.5 60.0 64.5 60.0 67.5\" stroke=\"black\" stroke-width=\"0.1\"/><polyline fill=\"red\" points=\"63.0 67.5 66.0 67.5 66.0 64.5 63.0 64.5 63.0 67.5\" stroke=\"black\" stroke-width=\"0.1\"/><polyline fill=\"red\" points=\"66.0 67.5 69.0 67.5 69.0 64.5 66.0 64.5 66.0 67.5\" stroke=\"black\" stroke-width=\"0.1\"/><polyline fill=\"red\" points=\"69.0 67.5 72.0 67.5 72.0 64.5 69.0 64.5 69.0 67.5\" stroke=\"black\" stroke-width=\"0.1\"/><polyline fill=\"cyan\" points=\"72.0 67.5 75.0 67.5 75.0 64.5 72.0 64.5 72.0 67.5\" stroke=\"black\" stroke-width=\"0.1\"/><polyline fill=\"cyan\" points=\"75.0 67.5 78.0 67.5 78.0 64.5 75.0 64.5 75.0 67.5\" stroke=\"black\" stroke-width=\"0.1\"/><polyline fill=\"red\" points=\"78.0 67.5 81.0 67.5 81.0 64.5 78.0 64.5 78.0 67.5\" stroke=\"black\" stroke-width=\"0.1\"/><polyline fill=\"red\" points=\"81.0 67.5 84.0 67.5 84.0 64.5 81.0 64.5 81.0 67.5\" stroke=\"black\" stroke-width=\"0.1\"/><polyline fill=\"red\" points=\"84.0 67.5 87.0 67.5 87.0 64.5 84.0 64.5 84.0 67.5\" stroke=\"black\" stroke-width=\"0.1\"/><polyline fill=\"blue\" points=\"87.0 67.5 90.0 67.5 90.0 64.5 87.0 64.5 87.0 67.5\" stroke=\"black\" stroke-width=\"0.1\"/><polyline fill=\"blue\" points=\"90.0 67.5 93.0 67.5 93.0 64.5 90.0 64.5 90.0 67.5\" stroke=\"black\" stroke-width=\"0.1\"/><polyline fill=\"red\" points=\"93.0 67.5 96.0 67.5 96.0 64.5 93.0 64.5 93.0 67.5\" stroke=\"black\" stroke-width=\"0.1\"/><polyline fill=\"red\" points=\"96.0 67.5 99.0 67.5 99.0 64.5 96.0 64.5 96.0 67.5\" stroke=\"black\" stroke-width=\"0.1\"/><polyline fill=\"red\" points=\"99.0 67.5 102.0 67.5 102.0 64.5 99.0 64.5 99.0 67.5\" stroke=\"black\" stroke-width=\"0.1\"/><polyline fill=\"cyan\" points=\"102.0 67.5 105.0 67.5 105.0 64.5 102.0 64.5 102.0 67.5\" stroke=\"black\" stroke-width=\"0.1\"/><polyline fill=\"cyan\" points=\"105.0 67.5 108.0 67.5 108.0 64.5 105.0 64.5 105.0 67.5\" stroke=\"black\" stroke-width=\"0.1\"/><polyline fill=\"red\" points=\"108.0 67.5 111.0 67.5 111.0 64.5 108.0 64.5 108.0 67.5\" stroke=\"black\" stroke-width=\"0.1\"/><polyline fill=\"red\" points=\"111.0 67.5 114.0 67.5 114.0 64.5 111.0 64.5 111.0 67.5\" stroke=\"black\" stroke-width=\"0.1\"/><polyline fill=\"red\" points=\"114.0 67.5 117.0 67.5 117.0 64.5 114.0 64.5 114.0 67.5\" stroke=\"black\" stroke-width=\"0.1\"/><polyline fill=\"blue\" points=\"117.0 67.5 120.0 67.5 120.0 64.5 117.0 64.5 117.0 67.5\" stroke=\"black\" stroke-width=\"0.1\"/><polyline fill=\"blue\" points=\"120.0 67.5 123.0 67.5 123.0 64.5 120.0 64.5 120.0 67.5\" stroke=\"black\" stroke-width=\"0.1\"/><polyline fill=\"blue\" points=\"55.5 70.5 58.5 70.5 58.5 67.5 55.5 67.5 55.5 70.5\" stroke=\"black\" stroke-width=\"0.1\"/><polyline fill=\"green\" points=\"58.5 70.5 61.5 70.5 61.5 67.5 58.5 67.5 58.5 70.5\" stroke=\"black\" stroke-width=\"0.1\"/><polyline fill=\"blue\" points=\"61.5 70.5 64.5 70.5 64.5 67.5 61.5 67.5 61.5 70.5\" stroke=\"black\" stroke-width=\"0.1\"/><polyline fill=\"red\" points=\"64.5 70.5 67.5 70.5 67.5 67.5 64.5 67.5 64.5 70.5\" stroke=\"black\" stroke-width=\"0.1\"/><polyline fill=\"red\" points=\"67.5 70.5 70.5 70.5 70.5 67.5 67.5 67.5 67.5 70.5\" stroke=\"black\" stroke-width=\"0.1\"/><polyline fill=\"cyan\" points=\"70.5 70.5 73.5 70.5 73.5 67.5 70.5 67.5 70.5 70.5\" stroke=\"black\" stroke-width=\"0.1\"/><polyline fill=\"yellow\" points=\"73.5 70.5 76.5 70.5 76.5 67.5 73.5 67.5 73.5 70.5\" stroke=\"black\" stroke-width=\"0.1\"/><polyline fill=\"cyan\" points=\"76.5 70.5 79.5 70.5 79.5 67.5 76.5 67.5 76.5 70.5\" stroke=\"black\" stroke-width=\"0.1\"/><polyline fill=\"red\" points=\"79.5 70.5 82.5 70.5 82.5 67.5 79.5 67.5 79.5 70.5\" stroke=\"black\" stroke-width=\"0.1\"/><polyline fill=\"red\" points=\"82.5 70.5 85.5 70.5 85.5 67.5 82.5 67.5 82.5 70.5\" stroke=\"black\" stroke-width=\"0.1\"/><polyline fill=\"blue\" points=\"85.5 70.5 88.5 70.5 88.5 67.5 85.5 67.5 85.5 70.5\" stroke=\"black\" stroke-width=\"0.1\"/><polyline fill=\"green\" points=\"88.5 70.5 91.5 70.5 91.5 67.5 88.5 67.5 88.5 70.5\" stroke=\"black\" stroke-width=\"0.1\"/><polyline fill=\"blue\" points=\"91.5 70.5 94.5 70.5 94.5 67.5 91.5 67.5 91.5 70.5\" stroke=\"black\" stroke-width=\"0.1\"/><polyline fill=\"red\" points=\"94.5 70.5 97.5 70.5 97.5 67.5 94.5 67.5 94.5 70.5\" stroke=\"black\" stroke-width=\"0.1\"/><polyline fill=\"red\" points=\"97.5 70.5 100.5 70.5 100.5 67.5 97.5 67.5 97.5 70.5\" stroke=\"black\" stroke-width=\"0.1\"/><polyline fill=\"cyan\" points=\"100.5 70.5 103.5 70.5 103.5 67.5 100.5 67.5 100.5 70.5\" stroke=\"black\" stroke-width=\"0.1\"/><polyline fill=\"yellow\" points=\"103.5 70.5 106.5 70.5 106.5 67.5 103.5 67.5 103.5 70.5\" stroke=\"black\" stroke-width=\"0.1\"/><polyline fill=\"cyan\" points=\"106.5 70.5 109.5 70.5 109.5 67.5 106.5 67.5 106.5 70.5\" stroke=\"black\" stroke-width=\"0.1\"/><polyline fill=\"red\" points=\"109.5 70.5 112.5 70.5 112.5 67.5 109.5 67.5 109.5 70.5\" stroke=\"black\" stroke-width=\"0.1\"/><polyline fill=\"red\" points=\"112.5 70.5 115.5 70.5 115.5 67.5 112.5 67.5 112.5 70.5\" stroke=\"black\" stroke-width=\"0.1\"/><polyline fill=\"blue\" points=\"115.5 70.5 118.5 70.5 118.5 67.5 115.5 67.5 115.5 70.5\" stroke=\"black\" stroke-width=\"0.1\"/><polyline fill=\"green\" points=\"118.5 70.5 121.5 70.5 121.5 67.5 118.5 67.5 118.5 70.5\" stroke=\"black\" stroke-width=\"0.1\"/><polyline fill=\"blue\" points=\"121.5 70.5 124.5 70.5 124.5 67.5 121.5 67.5 121.5 70.5\" stroke=\"black\" stroke-width=\"0.1\"/><polyline fill=\"blue\" points=\"54.0 73.5 57.0 73.5 57.0 70.5 54.0 70.5 54.0 73.5\" stroke=\"black\" stroke-width=\"0.1\"/><polyline fill=\"yellow\" points=\"57.0 73.5 60.0 73.5 60.0 70.5 57.0 70.5 57.0 73.5\" stroke=\"black\" stroke-width=\"0.1\"/><polyline fill=\"yellow\" points=\"60.0 73.5 63.0 73.5 63.0 70.5 60.0 70.5 60.0 73.5\" stroke=\"black\" stroke-width=\"0.1\"/><polyline fill=\"blue\" points=\"63.0 73.5 66.0 73.5 66.0 70.5 63.0 70.5 63.0 73.5\" stroke=\"black\" stroke-width=\"0.1\"/><polyline fill=\"red\" points=\"66.0 73.5 69.0 73.5 69.0 70.5 66.0 70.5 66.0 73.5\" stroke=\"black\" stroke-width=\"0.1\"/><polyline fill=\"cyan\" points=\"69.0 73.5 72.0 73.5 72.0 70.5 69.0 70.5 69.0 73.5\" stroke=\"black\" stroke-width=\"0.1\"/><polyline fill=\"green\" points=\"72.0 73.5 75.0 73.5 75.0 70.5 72.0 70.5 72.0 73.5\" stroke=\"black\" stroke-width=\"0.1\"/><polyline fill=\"green\" points=\"75.0 73.5 78.0 73.5 78.0 70.5 75.0 70.5 75.0 73.5\" stroke=\"black\" stroke-width=\"0.1\"/><polyline fill=\"cyan\" points=\"78.0 73.5 81.0 73.5 81.0 70.5 78.0 70.5 78.0 73.5\" stroke=\"black\" stroke-width=\"0.1\"/><polyline fill=\"red\" points=\"81.0 73.5 84.0 73.5 84.0 70.5 81.0 70.5 81.0 73.5\" stroke=\"black\" stroke-width=\"0.1\"/><polyline fill=\"blue\" points=\"84.0 73.5 87.0 73.5 87.0 70.5 84.0 70.5 84.0 73.5\" stroke=\"black\" stroke-width=\"0.1\"/><polyline fill=\"yellow\" points=\"87.0 73.5 90.0 73.5 90.0 70.5 87.0 70.5 87.0 73.5\" stroke=\"black\" stroke-width=\"0.1\"/><polyline fill=\"yellow\" points=\"90.0 73.5 93.0 73.5 93.0 70.5 90.0 70.5 90.0 73.5\" stroke=\"black\" stroke-width=\"0.1\"/><polyline fill=\"blue\" points=\"93.0 73.5 96.0 73.5 96.0 70.5 93.0 70.5 93.0 73.5\" stroke=\"black\" stroke-width=\"0.1\"/><polyline fill=\"red\" points=\"96.0 73.5 99.0 73.5 99.0 70.5 96.0 70.5 96.0 73.5\" stroke=\"black\" stroke-width=\"0.1\"/><polyline fill=\"cyan\" points=\"99.0 73.5 102.0 73.5 102.0 70.5 99.0 70.5 99.0 73.5\" stroke=\"black\" stroke-width=\"0.1\"/><polyline fill=\"green\" points=\"102.0 73.5 105.0 73.5 105.0 70.5 102.0 70.5 102.0 73.5\" stroke=\"black\" stroke-width=\"0.1\"/><polyline fill=\"green\" points=\"105.0 73.5 108.0 73.5 108.0 70.5 105.0 70.5 105.0 73.5\" stroke=\"black\" stroke-width=\"0.1\"/><polyline fill=\"cyan\" points=\"108.0 73.5 111.0 73.5 111.0 70.5 108.0 70.5 108.0 73.5\" stroke=\"black\" stroke-width=\"0.1\"/><polyline fill=\"red\" points=\"111.0 73.5 114.0 73.5 114.0 70.5 111.0 70.5 111.0 73.5\" stroke=\"black\" stroke-width=\"0.1\"/><polyline fill=\"blue\" points=\"114.0 73.5 117.0 73.5 117.0 70.5 114.0 70.5 114.0 73.5\" stroke=\"black\" stroke-width=\"0.1\"/><polyline fill=\"yellow\" points=\"117.0 73.5 120.0 73.5 120.0 70.5 117.0 70.5 117.0 73.5\" stroke=\"black\" stroke-width=\"0.1\"/><polyline fill=\"yellow\" points=\"120.0 73.5 123.0 73.5 123.0 70.5 120.0 70.5 120.0 73.5\" stroke=\"black\" stroke-width=\"0.1\"/><polyline fill=\"blue\" points=\"123.0 73.5 126.0 73.5 126.0 70.5 123.0 70.5 123.0 73.5\" stroke=\"black\" stroke-width=\"0.1\"/><polyline fill=\"blue\" points=\"52.5 76.5 55.5 76.5 55.5 73.5 52.5 73.5 52.5 76.5\" stroke=\"black\" stroke-width=\"0.1\"/><polyline fill=\"cyan\" points=\"55.5 76.5 58.5 76.5 58.5 73.5 55.5 73.5 55.5 76.5\" stroke=\"black\" stroke-width=\"0.1\"/><polyline fill=\"blue\" points=\"58.5 76.5 61.5 76.5 61.5 73.5 58.5 73.5 58.5 76.5\" stroke=\"black\" stroke-width=\"0.1\"/><polyline fill=\"cyan\" points=\"61.5 76.5 64.5 76.5 64.5 73.5 61.5 73.5 61.5 76.5\" stroke=\"black\" stroke-width=\"0.1\"/><polyline fill=\"blue\" points=\"64.5 76.5 67.5 76.5 67.5 73.5 64.5 73.5 64.5 76.5\" stroke=\"black\" stroke-width=\"0.1\"/><polyline fill=\"cyan\" points=\"67.5 76.5 70.5 76.5 70.5 73.5 67.5 73.5 67.5 76.5\" stroke=\"black\" stroke-width=\"0.1\"/><polyline fill=\"blue\" points=\"70.5 76.5 73.5 76.5 73.5 73.5 70.5 73.5 70.5 76.5\" stroke=\"black\" stroke-width=\"0.1\"/><polyline fill=\"cyan\" points=\"73.5 76.5 76.5 76.5 76.5 73.5 73.5 73.5 73.5 76.5\" stroke=\"black\" stroke-width=\"0.1\"/><polyline fill=\"blue\" points=\"76.5 76.5 79.5 76.5 79.5 73.5 76.5 73.5 76.5 76.5\" stroke=\"black\" stroke-width=\"0.1\"/><polyline fill=\"cyan\" points=\"79.5 76.5 82.5 76.5 82.5 73.5 79.5 73.5 79.5 76.5\" stroke=\"black\" stroke-width=\"0.1\"/><polyline fill=\"blue\" points=\"82.5 76.5 85.5 76.5 85.5 73.5 82.5 73.5 82.5 76.5\" stroke=\"black\" stroke-width=\"0.1\"/><polyline fill=\"cyan\" points=\"85.5 76.5 88.5 76.5 88.5 73.5 85.5 73.5 85.5 76.5\" stroke=\"black\" stroke-width=\"0.1\"/><polyline fill=\"blue\" points=\"88.5 76.5 91.5 76.5 91.5 73.5 88.5 73.5 88.5 76.5\" stroke=\"black\" stroke-width=\"0.1\"/><polyline fill=\"cyan\" points=\"91.5 76.5 94.5 76.5 94.5 73.5 91.5 73.5 91.5 76.5\" stroke=\"black\" stroke-width=\"0.1\"/><polyline fill=\"blue\" points=\"94.5 76.5 97.5 76.5 97.5 73.5 94.5 73.5 94.5 76.5\" stroke=\"black\" stroke-width=\"0.1\"/><polyline fill=\"cyan\" points=\"97.5 76.5 100.5 76.5 100.5 73.5 97.5 73.5 97.5 76.5\" stroke=\"black\" stroke-width=\"0.1\"/><polyline fill=\"blue\" points=\"100.5 76.5 103.5 76.5 103.5 73.5 100.5 73.5 100.5 76.5\" stroke=\"black\" stroke-width=\"0.1\"/><polyline fill=\"cyan\" points=\"103.5 76.5 106.5 76.5 106.5 73.5 103.5 73.5 103.5 76.5\" stroke=\"black\" stroke-width=\"0.1\"/><polyline fill=\"blue\" points=\"106.5 76.5 109.5 76.5 109.5 73.5 106.5 73.5 106.5 76.5\" stroke=\"black\" stroke-width=\"0.1\"/><polyline fill=\"cyan\" points=\"109.5 76.5 112.5 76.5 112.5 73.5 109.5 73.5 109.5 76.5\" stroke=\"black\" stroke-width=\"0.1\"/><polyline fill=\"blue\" points=\"112.5 76.5 115.5 76.5 115.5 73.5 112.5 73.5 112.5 76.5\" stroke=\"black\" stroke-width=\"0.1\"/><polyline fill=\"cyan\" points=\"115.5 76.5 118.5 76.5 118.5 73.5 115.5 73.5 115.5 76.5\" stroke=\"black\" stroke-width=\"0.1\"/><polyline fill=\"blue\" points=\"118.5 76.5 121.5 76.5 121.5 73.5 118.5 73.5 118.5 76.5\" stroke=\"black\" stroke-width=\"0.1\"/><polyline fill=\"cyan\" points=\"121.5 76.5 124.5 76.5 124.5 73.5 121.5 73.5 121.5 76.5\" stroke=\"black\" stroke-width=\"0.1\"/><polyline fill=\"blue\" points=\"124.5 76.5 127.5 76.5 127.5 73.5 124.5 73.5 124.5 76.5\" stroke=\"black\" stroke-width=\"0.1\"/><polyline fill=\"blue\" points=\"51.0 79.5 54.0 79.5 54.0 76.5 51.0 76.5 51.0 79.5\" stroke=\"black\" stroke-width=\"0.1\"/><polyline fill=\"red\" points=\"54.0 79.5 57.0 79.5 57.0 76.5 54.0 76.5 54.0 79.5\" stroke=\"black\" stroke-width=\"0.1\"/><polyline fill=\"red\" points=\"57.0 79.5 60.0 79.5 60.0 76.5 57.0 76.5 57.0 79.5\" stroke=\"black\" stroke-width=\"0.1\"/><polyline fill=\"red\" points=\"60.0 79.5 63.0 79.5 63.0 76.5 60.0 76.5 60.0 79.5\" stroke=\"black\" stroke-width=\"0.1\"/><polyline fill=\"red\" points=\"63.0 79.5 66.0 79.5 66.0 76.5 63.0 76.5 63.0 79.5\" stroke=\"black\" stroke-width=\"0.1\"/><polyline fill=\"red\" points=\"66.0 79.5 69.0 79.5 69.0 76.5 66.0 76.5 66.0 79.5\" stroke=\"black\" stroke-width=\"0.1\"/><polyline fill=\"red\" points=\"69.0 79.5 72.0 79.5 72.0 76.5 69.0 76.5 69.0 79.5\" stroke=\"black\" stroke-width=\"0.1\"/><polyline fill=\"red\" points=\"72.0 79.5 75.0 79.5 75.0 76.5 72.0 76.5 72.0 79.5\" stroke=\"black\" stroke-width=\"0.1\"/><polyline fill=\"red\" points=\"75.0 79.5 78.0 79.5 78.0 76.5 75.0 76.5 75.0 79.5\" stroke=\"black\" stroke-width=\"0.1\"/><polyline fill=\"red\" points=\"78.0 79.5 81.0 79.5 81.0 76.5 78.0 76.5 78.0 79.5\" stroke=\"black\" stroke-width=\"0.1\"/><polyline fill=\"red\" points=\"81.0 79.5 84.0 79.5 84.0 76.5 81.0 76.5 81.0 79.5\" stroke=\"black\" stroke-width=\"0.1\"/><polyline fill=\"red\" points=\"84.0 79.5 87.0 79.5 87.0 76.5 84.0 76.5 84.0 79.5\" stroke=\"black\" stroke-width=\"0.1\"/><polyline fill=\"red\" points=\"87.0 79.5 90.0 79.5 90.0 76.5 87.0 76.5 87.0 79.5\" stroke=\"black\" stroke-width=\"0.1\"/><polyline fill=\"red\" points=\"90.0 79.5 93.0 79.5 93.0 76.5 90.0 76.5 90.0 79.5\" stroke=\"black\" stroke-width=\"0.1\"/><polyline fill=\"red\" points=\"93.0 79.5 96.0 79.5 96.0 76.5 93.0 76.5 93.0 79.5\" stroke=\"black\" stroke-width=\"0.1\"/><polyline fill=\"red\" points=\"96.0 79.5 99.0 79.5 99.0 76.5 96.0 76.5 96.0 79.5\" stroke=\"black\" stroke-width=\"0.1\"/><polyline fill=\"red\" points=\"99.0 79.5 102.0 79.5 102.0 76.5 99.0 76.5 99.0 79.5\" stroke=\"black\" stroke-width=\"0.1\"/><polyline fill=\"red\" points=\"102.0 79.5 105.0 79.5 105.0 76.5 102.0 76.5 102.0 79.5\" stroke=\"black\" stroke-width=\"0.1\"/><polyline fill=\"red\" points=\"105.0 79.5 108.0 79.5 108.0 76.5 105.0 76.5 105.0 79.5\" stroke=\"black\" stroke-width=\"0.1\"/><polyline fill=\"red\" points=\"108.0 79.5 111.0 79.5 111.0 76.5 108.0 76.5 108.0 79.5\" stroke=\"black\" stroke-width=\"0.1\"/><polyline fill=\"red\" points=\"111.0 79.5 114.0 79.5 114.0 76.5 111.0 76.5 111.0 79.5\" stroke=\"black\" stroke-width=\"0.1\"/><polyline fill=\"red\" points=\"114.0 79.5 117.0 79.5 117.0 76.5 114.0 76.5 114.0 79.5\" stroke=\"black\" stroke-width=\"0.1\"/><polyline fill=\"red\" points=\"117.0 79.5 120.0 79.5 120.0 76.5 117.0 76.5 117.0 79.5\" stroke=\"black\" stroke-width=\"0.1\"/><polyline fill=\"red\" points=\"120.0 79.5 123.0 79.5 123.0 76.5 120.0 76.5 120.0 79.5\" stroke=\"black\" stroke-width=\"0.1\"/><polyline fill=\"red\" points=\"123.0 79.5 126.0 79.5 126.0 76.5 123.0 76.5 123.0 79.5\" stroke=\"black\" stroke-width=\"0.1\"/><polyline fill=\"blue\" points=\"126.0 79.5 129.0 79.5 129.0 76.5 126.0 76.5 126.0 79.5\" stroke=\"black\" stroke-width=\"0.1\"/><polyline fill=\"blue\" points=\"49.5 82.5 52.5 82.5 52.5 79.5 49.5 79.5 49.5 82.5\" stroke=\"black\" stroke-width=\"0.1\"/><polyline fill=\"blue\" points=\"52.5 82.5 55.5 82.5 55.5 79.5 52.5 79.5 52.5 82.5\" stroke=\"black\" stroke-width=\"0.1\"/><polyline fill=\"red\" points=\"55.5 82.5 58.5 82.5 58.5 79.5 55.5 79.5 55.5 82.5\" stroke=\"black\" stroke-width=\"0.1\"/><polyline fill=\"red\" points=\"58.5 82.5 61.5 82.5 61.5 79.5 58.5 79.5 58.5 82.5\" stroke=\"black\" stroke-width=\"0.1\"/><polyline fill=\"red\" points=\"61.5 82.5 64.5 82.5 64.5 79.5 61.5 79.5 61.5 82.5\" stroke=\"black\" stroke-width=\"0.1\"/><polyline fill=\"red\" points=\"64.5 82.5 67.5 82.5 67.5 79.5 64.5 79.5 64.5 82.5\" stroke=\"black\" stroke-width=\"0.1\"/><polyline fill=\"red\" points=\"67.5 82.5 70.5 82.5 70.5 79.5 67.5 79.5 67.5 82.5\" stroke=\"black\" stroke-width=\"0.1\"/><polyline fill=\"red\" points=\"70.5 82.5 73.5 82.5 73.5 79.5 70.5 79.5 70.5 82.5\" stroke=\"black\" stroke-width=\"0.1\"/><polyline fill=\"red\" points=\"73.5 82.5 76.5 82.5 76.5 79.5 73.5 79.5 73.5 82.5\" stroke=\"black\" stroke-width=\"0.1\"/><polyline fill=\"red\" points=\"76.5 82.5 79.5 82.5 79.5 79.5 76.5 79.5 76.5 82.5\" stroke=\"black\" stroke-width=\"0.1\"/><polyline fill=\"red\" points=\"79.5 82.5 82.5 82.5 82.5 79.5 79.5 79.5 79.5 82.5\" stroke=\"black\" stroke-width=\"0.1\"/><polyline fill=\"red\" points=\"82.5 82.5 85.5 82.5 85.5 79.5 82.5 79.5 82.5 82.5\" stroke=\"black\" stroke-width=\"0.1\"/><polyline fill=\"red\" points=\"85.5 82.5 88.5 82.5 88.5 79.5 85.5 79.5 85.5 82.5\" stroke=\"black\" stroke-width=\"0.1\"/><polyline fill=\"red\" points=\"88.5 82.5 91.5 82.5 91.5 79.5 88.5 79.5 88.5 82.5\" stroke=\"black\" stroke-width=\"0.1\"/><polyline fill=\"red\" points=\"91.5 82.5 94.5 82.5 94.5 79.5 91.5 79.5 91.5 82.5\" stroke=\"black\" stroke-width=\"0.1\"/><polyline fill=\"red\" points=\"94.5 82.5 97.5 82.5 97.5 79.5 94.5 79.5 94.5 82.5\" stroke=\"black\" stroke-width=\"0.1\"/><polyline fill=\"red\" points=\"97.5 82.5 100.5 82.5 100.5 79.5 97.5 79.5 97.5 82.5\" stroke=\"black\" stroke-width=\"0.1\"/><polyline fill=\"red\" points=\"100.5 82.5 103.5 82.5 103.5 79.5 100.5 79.5 100.5 82.5\" stroke=\"black\" stroke-width=\"0.1\"/><polyline fill=\"red\" points=\"103.5 82.5 106.5 82.5 106.5 79.5 103.5 79.5 103.5 82.5\" stroke=\"black\" stroke-width=\"0.1\"/><polyline fill=\"red\" points=\"106.5 82.5 109.5 82.5 109.5 79.5 106.5 79.5 106.5 82.5\" stroke=\"black\" stroke-width=\"0.1\"/><polyline fill=\"red\" points=\"109.5 82.5 112.5 82.5 112.5 79.5 109.5 79.5 109.5 82.5\" stroke=\"black\" stroke-width=\"0.1\"/><polyline fill=\"red\" points=\"112.5 82.5 115.5 82.5 115.5 79.5 112.5 79.5 112.5 82.5\" stroke=\"black\" stroke-width=\"0.1\"/><polyline fill=\"red\" points=\"115.5 82.5 118.5 82.5 118.5 79.5 115.5 79.5 115.5 82.5\" stroke=\"black\" stroke-width=\"0.1\"/><polyline fill=\"red\" points=\"118.5 82.5 121.5 82.5 121.5 79.5 118.5 79.5 118.5 82.5\" stroke=\"black\" stroke-width=\"0.1\"/><polyline fill=\"red\" points=\"121.5 82.5 124.5 82.5 124.5 79.5 121.5 79.5 121.5 82.5\" stroke=\"black\" stroke-width=\"0.1\"/><polyline fill=\"blue\" points=\"124.5 82.5 127.5 82.5 127.5 79.5 124.5 79.5 124.5 82.5\" stroke=\"black\" stroke-width=\"0.1\"/><polyline fill=\"blue\" points=\"127.5 82.5 130.5 82.5 130.5 79.5 127.5 79.5 127.5 82.5\" stroke=\"black\" stroke-width=\"0.1\"/><polyline fill=\"blue\" points=\"48.0 85.5 51.0 85.5 51.0 82.5 48.0 82.5 48.0 85.5\" stroke=\"black\" stroke-width=\"0.1\"/><polyline fill=\"green\" points=\"51.0 85.5 54.0 85.5 54.0 82.5 51.0 82.5 51.0 85.5\" stroke=\"black\" stroke-width=\"0.1\"/><polyline fill=\"blue\" points=\"54.0 85.5 57.0 85.5 57.0 82.5 54.0 82.5 54.0 85.5\" stroke=\"black\" stroke-width=\"0.1\"/><polyline fill=\"red\" points=\"57.0 85.5 60.0 85.5 60.0 82.5 57.0 82.5 57.0 85.5\" stroke=\"black\" stroke-width=\"0.1\"/><polyline fill=\"red\" points=\"60.0 85.5 63.0 85.5 63.0 82.5 60.0 82.5 60.0 85.5\" stroke=\"black\" stroke-width=\"0.1\"/><polyline fill=\"red\" points=\"63.0 85.5 66.0 85.5 66.0 82.5 63.0 82.5 63.0 85.5\" stroke=\"black\" stroke-width=\"0.1\"/><polyline fill=\"red\" points=\"66.0 85.5 69.0 85.5 69.0 82.5 66.0 82.5 66.0 85.5\" stroke=\"black\" stroke-width=\"0.1\"/><polyline fill=\"red\" points=\"69.0 85.5 72.0 85.5 72.0 82.5 69.0 82.5 69.0 85.5\" stroke=\"black\" stroke-width=\"0.1\"/><polyline fill=\"red\" points=\"72.0 85.5 75.0 85.5 75.0 82.5 72.0 82.5 72.0 85.5\" stroke=\"black\" stroke-width=\"0.1\"/><polyline fill=\"red\" points=\"75.0 85.5 78.0 85.5 78.0 82.5 75.0 82.5 75.0 85.5\" stroke=\"black\" stroke-width=\"0.1\"/><polyline fill=\"red\" points=\"78.0 85.5 81.0 85.5 81.0 82.5 78.0 82.5 78.0 85.5\" stroke=\"black\" stroke-width=\"0.1\"/><polyline fill=\"red\" points=\"81.0 85.5 84.0 85.5 84.0 82.5 81.0 82.5 81.0 85.5\" stroke=\"black\" stroke-width=\"0.1\"/><polyline fill=\"red\" points=\"84.0 85.5 87.0 85.5 87.0 82.5 84.0 82.5 84.0 85.5\" stroke=\"black\" stroke-width=\"0.1\"/><polyline fill=\"red\" points=\"87.0 85.5 90.0 85.5 90.0 82.5 87.0 82.5 87.0 85.5\" stroke=\"black\" stroke-width=\"0.1\"/><polyline fill=\"red\" points=\"90.0 85.5 93.0 85.5 93.0 82.5 90.0 82.5 90.0 85.5\" stroke=\"black\" stroke-width=\"0.1\"/><polyline fill=\"red\" points=\"93.0 85.5 96.0 85.5 96.0 82.5 93.0 82.5 93.0 85.5\" stroke=\"black\" stroke-width=\"0.1\"/><polyline fill=\"red\" points=\"96.0 85.5 99.0 85.5 99.0 82.5 96.0 82.5 96.0 85.5\" stroke=\"black\" stroke-width=\"0.1\"/><polyline fill=\"red\" points=\"99.0 85.5 102.0 85.5 102.0 82.5 99.0 82.5 99.0 85.5\" stroke=\"black\" stroke-width=\"0.1\"/><polyline fill=\"red\" points=\"102.0 85.5 105.0 85.5 105.0 82.5 102.0 82.5 102.0 85.5\" stroke=\"black\" stroke-width=\"0.1\"/><polyline fill=\"red\" points=\"105.0 85.5 108.0 85.5 108.0 82.5 105.0 82.5 105.0 85.5\" stroke=\"black\" stroke-width=\"0.1\"/><polyline fill=\"red\" points=\"108.0 85.5 111.0 85.5 111.0 82.5 108.0 82.5 108.0 85.5\" stroke=\"black\" stroke-width=\"0.1\"/><polyline fill=\"red\" points=\"111.0 85.5 114.0 85.5 114.0 82.5 111.0 82.5 111.0 85.5\" stroke=\"black\" stroke-width=\"0.1\"/><polyline fill=\"red\" points=\"114.0 85.5 117.0 85.5 117.0 82.5 114.0 82.5 114.0 85.5\" stroke=\"black\" stroke-width=\"0.1\"/><polyline fill=\"red\" points=\"117.0 85.5 120.0 85.5 120.0 82.5 117.0 82.5 117.0 85.5\" stroke=\"black\" stroke-width=\"0.1\"/><polyline fill=\"red\" points=\"120.0 85.5 123.0 85.5 123.0 82.5 120.0 82.5 120.0 85.5\" stroke=\"black\" stroke-width=\"0.1\"/><polyline fill=\"blue\" points=\"123.0 85.5 126.0 85.5 126.0 82.5 123.0 82.5 123.0 85.5\" stroke=\"black\" stroke-width=\"0.1\"/><polyline fill=\"green\" points=\"126.0 85.5 129.0 85.5 129.0 82.5 126.0 82.5 126.0 85.5\" stroke=\"black\" stroke-width=\"0.1\"/><polyline fill=\"blue\" points=\"129.0 85.5 132.0 85.5 132.0 82.5 129.0 82.5 129.0 85.5\" stroke=\"black\" stroke-width=\"0.1\"/><polyline fill=\"blue\" points=\"46.5 88.5 49.5 88.5 49.5 85.5 46.5 85.5 46.5 88.5\" stroke=\"black\" stroke-width=\"0.1\"/><polyline fill=\"yellow\" points=\"49.5 88.5 52.5 88.5 52.5 85.5 49.5 85.5 49.5 88.5\" stroke=\"black\" stroke-width=\"0.1\"/><polyline fill=\"yellow\" points=\"52.5 88.5 55.5 88.5 55.5 85.5 52.5 85.5 52.5 88.5\" stroke=\"black\" stroke-width=\"0.1\"/><polyline fill=\"blue\" points=\"55.5 88.5 58.5 88.5 58.5 85.5 55.5 85.5 55.5 88.5\" stroke=\"black\" stroke-width=\"0.1\"/><polyline fill=\"red\" points=\"58.5 88.5 61.5 88.5 61.5 85.5 58.5 85.5 58.5 88.5\" stroke=\"black\" stroke-width=\"0.1\"/><polyline fill=\"red\" points=\"61.5 88.5 64.5 88.5 64.5 85.5 61.5 85.5 61.5 88.5\" stroke=\"black\" stroke-width=\"0.1\"/><polyline fill=\"red\" points=\"64.5 88.5 67.5 88.5 67.5 85.5 64.5 85.5 64.5 88.5\" stroke=\"black\" stroke-width=\"0.1\"/><polyline fill=\"red\" points=\"67.5 88.5 70.5 88.5 70.5 85.5 67.5 85.5 67.5 88.5\" stroke=\"black\" stroke-width=\"0.1\"/><polyline fill=\"red\" points=\"70.5 88.5 73.5 88.5 73.5 85.5 70.5 85.5 70.5 88.5\" stroke=\"black\" stroke-width=\"0.1\"/><polyline fill=\"red\" points=\"73.5 88.5 76.5 88.5 76.5 85.5 73.5 85.5 73.5 88.5\" stroke=\"black\" stroke-width=\"0.1\"/><polyline fill=\"red\" points=\"76.5 88.5 79.5 88.5 79.5 85.5 76.5 85.5 76.5 88.5\" stroke=\"black\" stroke-width=\"0.1\"/><polyline fill=\"red\" points=\"79.5 88.5 82.5 88.5 82.5 85.5 79.5 85.5 79.5 88.5\" stroke=\"black\" stroke-width=\"0.1\"/><polyline fill=\"red\" points=\"82.5 88.5 85.5 88.5 85.5 85.5 82.5 85.5 82.5 88.5\" stroke=\"black\" stroke-width=\"0.1\"/><polyline fill=\"red\" points=\"85.5 88.5 88.5 88.5 88.5 85.5 85.5 85.5 85.5 88.5\" stroke=\"black\" stroke-width=\"0.1\"/><polyline fill=\"red\" points=\"88.5 88.5 91.5 88.5 91.5 85.5 88.5 85.5 88.5 88.5\" stroke=\"black\" stroke-width=\"0.1\"/><polyline fill=\"red\" points=\"91.5 88.5 94.5 88.5 94.5 85.5 91.5 85.5 91.5 88.5\" stroke=\"black\" stroke-width=\"0.1\"/><polyline fill=\"red\" points=\"94.5 88.5 97.5 88.5 97.5 85.5 94.5 85.5 94.5 88.5\" stroke=\"black\" stroke-width=\"0.1\"/><polyline fill=\"red\" points=\"97.5 88.5 100.5 88.5 100.5 85.5 97.5 85.5 97.5 88.5\" stroke=\"black\" stroke-width=\"0.1\"/><polyline fill=\"red\" points=\"100.5 88.5 103.5 88.5 103.5 85.5 100.5 85.5 100.5 88.5\" stroke=\"black\" stroke-width=\"0.1\"/><polyline fill=\"red\" points=\"103.5 88.5 106.5 88.5 106.5 85.5 103.5 85.5 103.5 88.5\" stroke=\"black\" stroke-width=\"0.1\"/><polyline fill=\"red\" points=\"106.5 88.5 109.5 88.5 109.5 85.5 106.5 85.5 106.5 88.5\" stroke=\"black\" stroke-width=\"0.1\"/><polyline fill=\"red\" points=\"109.5 88.5 112.5 88.5 112.5 85.5 109.5 85.5 109.5 88.5\" stroke=\"black\" stroke-width=\"0.1\"/><polyline fill=\"red\" points=\"112.5 88.5 115.5 88.5 115.5 85.5 112.5 85.5 112.5 88.5\" stroke=\"black\" stroke-width=\"0.1\"/><polyline fill=\"red\" points=\"115.5 88.5 118.5 88.5 118.5 85.5 115.5 85.5 115.5 88.5\" stroke=\"black\" stroke-width=\"0.1\"/><polyline fill=\"red\" points=\"118.5 88.5 121.5 88.5 121.5 85.5 118.5 85.5 118.5 88.5\" stroke=\"black\" stroke-width=\"0.1\"/><polyline fill=\"blue\" points=\"121.5 88.5 124.5 88.5 124.5 85.5 121.5 85.5 121.5 88.5\" stroke=\"black\" stroke-width=\"0.1\"/><polyline fill=\"yellow\" points=\"124.5 88.5 127.5 88.5 127.5 85.5 124.5 85.5 124.5 88.5\" stroke=\"black\" stroke-width=\"0.1\"/><polyline fill=\"yellow\" points=\"127.5 88.5 130.5 88.5 130.5 85.5 127.5 85.5 127.5 88.5\" stroke=\"black\" stroke-width=\"0.1\"/><polyline fill=\"blue\" points=\"130.5 88.5 133.5 88.5 133.5 85.5 130.5 85.5 130.5 88.5\" stroke=\"black\" stroke-width=\"0.1\"/><polyline fill=\"blue\" points=\"45.0 91.5 48.0 91.5 48.0 88.5 45.0 88.5 45.0 91.5\" stroke=\"black\" stroke-width=\"0.1\"/><polyline fill=\"cyan\" points=\"48.0 91.5 51.0 91.5 51.0 88.5 48.0 88.5 48.0 91.5\" stroke=\"black\" stroke-width=\"0.1\"/><polyline fill=\"blue\" points=\"51.0 91.5 54.0 91.5 54.0 88.5 51.0 88.5 51.0 91.5\" stroke=\"black\" stroke-width=\"0.1\"/><polyline fill=\"cyan\" points=\"54.0 91.5 57.0 91.5 57.0 88.5 54.0 88.5 54.0 91.5\" stroke=\"black\" stroke-width=\"0.1\"/><polyline fill=\"blue\" points=\"57.0 91.5 60.0 91.5 60.0 88.5 57.0 88.5 57.0 91.5\" stroke=\"black\" stroke-width=\"0.1\"/><polyline fill=\"red\" points=\"60.0 91.5 63.0 91.5 63.0 88.5 60.0 88.5 60.0 91.5\" stroke=\"black\" stroke-width=\"0.1\"/><polyline fill=\"red\" points=\"63.0 91.5 66.0 91.5 66.0 88.5 63.0 88.5 63.0 91.5\" stroke=\"black\" stroke-width=\"0.1\"/><polyline fill=\"red\" points=\"66.0 91.5 69.0 91.5 69.0 88.5 66.0 88.5 66.0 91.5\" stroke=\"black\" stroke-width=\"0.1\"/><polyline fill=\"red\" points=\"69.0 91.5 72.0 91.5 72.0 88.5 69.0 88.5 69.0 91.5\" stroke=\"black\" stroke-width=\"0.1\"/><polyline fill=\"red\" points=\"72.0 91.5 75.0 91.5 75.0 88.5 72.0 88.5 72.0 91.5\" stroke=\"black\" stroke-width=\"0.1\"/><polyline fill=\"red\" points=\"75.0 91.5 78.0 91.5 78.0 88.5 75.0 88.5 75.0 91.5\" stroke=\"black\" stroke-width=\"0.1\"/><polyline fill=\"red\" points=\"78.0 91.5 81.0 91.5 81.0 88.5 78.0 88.5 78.0 91.5\" stroke=\"black\" stroke-width=\"0.1\"/><polyline fill=\"red\" points=\"81.0 91.5 84.0 91.5 84.0 88.5 81.0 88.5 81.0 91.5\" stroke=\"black\" stroke-width=\"0.1\"/><polyline fill=\"red\" points=\"84.0 91.5 87.0 91.5 87.0 88.5 84.0 88.5 84.0 91.5\" stroke=\"black\" stroke-width=\"0.1\"/><polyline fill=\"red\" points=\"87.0 91.5 90.0 91.5 90.0 88.5 87.0 88.5 87.0 91.5\" stroke=\"black\" stroke-width=\"0.1\"/><polyline fill=\"red\" points=\"90.0 91.5 93.0 91.5 93.0 88.5 90.0 88.5 90.0 91.5\" stroke=\"black\" stroke-width=\"0.1\"/><polyline fill=\"red\" points=\"93.0 91.5 96.0 91.5 96.0 88.5 93.0 88.5 93.0 91.5\" stroke=\"black\" stroke-width=\"0.1\"/><polyline fill=\"red\" points=\"96.0 91.5 99.0 91.5 99.0 88.5 96.0 88.5 96.0 91.5\" stroke=\"black\" stroke-width=\"0.1\"/><polyline fill=\"red\" points=\"99.0 91.5 102.0 91.5 102.0 88.5 99.0 88.5 99.0 91.5\" stroke=\"black\" stroke-width=\"0.1\"/><polyline fill=\"red\" points=\"102.0 91.5 105.0 91.5 105.0 88.5 102.0 88.5 102.0 91.5\" stroke=\"black\" stroke-width=\"0.1\"/><polyline fill=\"red\" points=\"105.0 91.5 108.0 91.5 108.0 88.5 105.0 88.5 105.0 91.5\" stroke=\"black\" stroke-width=\"0.1\"/><polyline fill=\"red\" points=\"108.0 91.5 111.0 91.5 111.0 88.5 108.0 88.5 108.0 91.5\" stroke=\"black\" stroke-width=\"0.1\"/><polyline fill=\"red\" points=\"111.0 91.5 114.0 91.5 114.0 88.5 111.0 88.5 111.0 91.5\" stroke=\"black\" stroke-width=\"0.1\"/><polyline fill=\"red\" points=\"114.0 91.5 117.0 91.5 117.0 88.5 114.0 88.5 114.0 91.5\" stroke=\"black\" stroke-width=\"0.1\"/><polyline fill=\"red\" points=\"117.0 91.5 120.0 91.5 120.0 88.5 117.0 88.5 117.0 91.5\" stroke=\"black\" stroke-width=\"0.1\"/><polyline fill=\"blue\" points=\"120.0 91.5 123.0 91.5 123.0 88.5 120.0 88.5 120.0 91.5\" stroke=\"black\" stroke-width=\"0.1\"/><polyline fill=\"cyan\" points=\"123.0 91.5 126.0 91.5 126.0 88.5 123.0 88.5 123.0 91.5\" stroke=\"black\" stroke-width=\"0.1\"/><polyline fill=\"blue\" points=\"126.0 91.5 129.0 91.5 129.0 88.5 126.0 88.5 126.0 91.5\" stroke=\"black\" stroke-width=\"0.1\"/><polyline fill=\"cyan\" points=\"129.0 91.5 132.0 91.5 132.0 88.5 129.0 88.5 129.0 91.5\" stroke=\"black\" stroke-width=\"0.1\"/><polyline fill=\"blue\" points=\"132.0 91.5 135.0 91.5 135.0 88.5 132.0 88.5 132.0 91.5\" stroke=\"black\" stroke-width=\"0.1\"/></svg>"
      ],
      "text/plain": [
       "<IPython.core.display.SVG object>"
      ]
     },
     "metadata": {},
     "output_type": "display_data"
    }
   ],
   "source": [
    "from IPython.display import SVG, display\n",
    "import svglib as svg\n",
    "\n",
    "#size of square side\n",
    "#number of lines of triangle\n",
    "#modnum up to 11\n",
    "#(12,25,\"img\",5)\n",
    "def triangle(sqside,lines,filename,modNum):    \n",
    "    file = open(filename + \".svg\",\"w\")\n",
    "    file.write(svg.header())\n",
    "    for i in range(lines):\n",
    "        for j in range(i+1):\n",
    "\n",
    "            color = \"blue\"\n",
    "            num = comb(i, j)\n",
    "            mod = num%modNum\n",
    "\n",
    "            if mod==2:\n",
    "                color = \"green\"                \n",
    "            if mod==3:\n",
    "                color = \"yellow\"\n",
    "            if mod==4:\n",
    "                color = \"cyan\"                \n",
    "            if mod==5:\n",
    "                color = \"red\"\n",
    "            if mod==6:\n",
    "                color = \"saddlebrown\"\n",
    "            if mod==7:\n",
    "                color = \"magenta\"\n",
    "            if mod==8:\n",
    "                color = \"darkgray\"\n",
    "            if mod==9:\n",
    "                color = \"orange\"\n",
    "            if mod==10:\n",
    "                color = \"navajowhite\"\n",
    "            if mod==0:\n",
    "                color = \"red\" \n",
    "                \n",
    "            file.write(svg.polyline(color,\"black\",0.1,[(lines*sqside + j*sqside-i*sqside/2-sqside/2),((1+i)*sqside+sqside/2),(lines*sqside + j*sqside-i*sqside/2+sqside/2),((1+i)*sqside+sqside/2) ,(lines*sqside + j*sqside-i*sqside/2+sqside/2),((1+i)*sqside-sqside/2) ,(lines*sqside + j*sqside-i*sqside/2-sqside/2),((1+i)*sqside-sqside/2),(lines*sqside + j*sqside-i*sqside/2-sqside/2),((1+i)*sqside+sqside/2)]) )\n",
    "            \n",
    "            #file.write(svg.square(lines*sqside + j*sqside-i*sqside/2,(1+i)*sqside,color,sqside))    \n",
    "    file.write(svg.footer())\n",
    "    file.close()\n",
    "    display(SVG(filename = filename + '.svg'))\n",
    "\n",
    "def comb(n, k):\n",
    "    if k == 0 or k == n:\n",
    "        return 1\n",
    "    else:\n",
    "        return comb(n-1, k-1) + comb(n-1, k)\n",
    "    \n",
    "triangle(3,30,\"img\",5)"
   ]
  },
  {
   "cell_type": "markdown",
   "metadata": {},
   "source": [
    "#### C) Výpočet π"
   ]
  },
  {
   "cell_type": "markdown",
   "metadata": {},
   "source": [
    "Gregory-hoLeibnizova řada:"
   ]
  },
  {
   "cell_type": "code",
   "execution_count": 90,
   "metadata": {},
   "outputs": [
    {
     "data": {
      "text/plain": [
       "3.140592653839794"
      ]
     },
     "execution_count": 90,
     "metadata": {},
     "output_type": "execute_result"
    }
   ],
   "source": [
    "import math\n",
    "import random\n",
    "\n",
    "def gregor_leibnitz(steps):\n",
    "\n",
    "    result = 0;\n",
    "    for i in range(steps):\n",
    "        result = result + 4*(((-1)**i)/(2*i+1))\n",
    "    return result\n",
    "\n",
    "gregor_leibnitz(1000)"
   ]
  },
  {
   "cell_type": "markdown",
   "metadata": {},
   "source": [
    "Archimedova řada:"
   ]
  },
  {
   "cell_type": "code",
   "execution_count": 82,
   "metadata": {},
   "outputs": [
    {
     "name": "stdout",
     "output_type": "stream",
     "text": [
      "3.1415929273850964\n"
     ]
    }
   ],
   "source": [
    "def archimed(steps):\n",
    "\n",
    "    a = 2*math.sqrt(3)\n",
    "    b = 3\n",
    "    for i in range(steps):\n",
    "        a = (2*a*b)/(a+b)\n",
    "        b = math.sqrt(a*b)\n",
    "    print(a)\n",
    "    #print(b)\n",
    "    return \n",
    "\n",
    "archimed(10)"
   ]
  },
  {
   "cell_type": "markdown",
   "metadata": {},
   "source": [
    "Monte Carlo metoda:"
   ]
  },
  {
   "cell_type": "code",
   "execution_count": 89,
   "metadata": {},
   "outputs": [
    {
     "data": {
      "text/plain": [
       "3.14196"
      ]
     },
     "execution_count": 89,
     "metadata": {},
     "output_type": "execute_result"
    }
   ],
   "source": [
    "def montecarlo(tries):\n",
    "\n",
    "    result = 0\n",
    "    for i in range(tries):\n",
    "        x = random.random()\n",
    "        y = random.random()\n",
    "\n",
    "        if(math.sqrt(x**2+y**2) <= 1):\n",
    "           result += 1\n",
    "    return 4*result/tries\n",
    "\n",
    "montecarlo(100000)"
   ]
  },
  {
   "cell_type": "markdown",
   "metadata": {},
   "source": [
    "Vlastna metoda:"
   ]
  },
  {
   "cell_type": "code",
   "execution_count": 92,
   "metadata": {},
   "outputs": [
    {
     "data": {
      "text/plain": [
       "3.14159254044654"
      ]
     },
     "execution_count": 92,
     "metadata": {},
     "output_type": "execute_result"
    }
   ],
   "source": [
    "#pomocna funkcia\n",
    "def CF(step,steps):\n",
    "    if step == steps:\n",
    "        return 2*step-1\n",
    "    return (2*step-1)+step**2/(CF(step+1,steps))\n",
    "\n",
    "#steps do 994\n",
    "def continued_fractions(steps):\n",
    "\n",
    "    result = CF(1,steps)\n",
    "    return 4/result\n",
    "\n",
    "continued_fractions(10)"
   ]
  },
  {
   "cell_type": "markdown",
   "metadata": {},
   "source": [
    "#### D) Umocňování"
   ]
  },
  {
   "cell_type": "code",
   "execution_count": null,
   "metadata": {},
   "outputs": [],
   "source": []
  }
 ],
 "metadata": {
  "kernelspec": {
   "display_name": "Python 3",
   "language": "python",
   "name": "python3"
  },
  "language_info": {
   "codemirror_mode": {
    "name": "ipython",
    "version": 3
   },
   "file_extension": ".py",
   "mimetype": "text/x-python",
   "name": "python",
   "nbconvert_exporter": "python",
   "pygments_lexer": "ipython3",
   "version": "3.6.4"
  }
 },
 "nbformat": 4,
 "nbformat_minor": 2
}
